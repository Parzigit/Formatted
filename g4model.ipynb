{
 "cells": [
  {
   "cell_type": "code",
   "execution_count": 1,
   "metadata": {},
   "outputs": [],
   "source": [
    "from g4f.client import Client\n",
    "client = Client()"
   ]
  },
  {
   "cell_type": "code",
   "execution_count": 2,
   "metadata": {},
   "outputs": [
    {
     "name": "stdout",
     "output_type": "stream",
     "text": [
      "\n",
      "\n",
      "Response from GPT-3.5:\n",
      "\n",
      "Query: World War II\n",
      "\n",
      "1. About the Event:\n",
      "World War II was a global conflict that lasted from 1939 to 1945, involving most of the world's nations. It was the deadliest and most widespread war in human history, resulting in over 70 million deaths. The war was fought primarily between the Allies (including countries such as the United States, United Kingdom, Soviet Union, and China) and the Axis powers (chiefly Germany, Italy, and Japan).\n",
      "\n",
      "2. Timeline:\n",
      "- September 1, 1939: Germany invades Poland, leading to the official start of World War II.\n",
      "- December 7, 1941: Japan attacks Pearl Harbor, drawing the United States into the war.\n",
      "- June 6, 1944: Allies launch D-Day invasion on the beaches of Normandy, France.\n",
      "- May 8, 1945: Germany surrenders, marking the end of the war in Europe.\n",
      "- August 15, 1945: Japan surrenders after the atomic bombings of Hiroshima and Nagasaki, ending World War II.\n",
      "\n",
      "3. People/Parties Involved:\n",
      "Key leaders during World War II included Adolf Hitler (Germany), Winston Churchill (United Kingdom), Franklin D. Roosevelt (United States), Joseph Stalin (Soviet Union), Benito Mussolini (Italy), and Hideki Tojo (Japan).\n",
      "\n",
      "4. Regions Affected:\n",
      "World War II had a global impact, with countries in Europe, Asia, Africa, and the Pacific all being affected by the conflict. Battles were fought on multiple continents, with significant destruction and loss of life.\n",
      "\n",
      "5. Key Takeaways:\n",
      "- The war led to the rise of the United States and the Soviet Union as superpowers.\n",
      "- The Holocaust, in which six million Jews were systematically killed by the Nazis, remains one of the darkest chapters in human history.\n",
      "- The use of atomic bombs on Hiroshima and Nagasaki marked the first and only instances of nuclear weapons being used in warfare.\n",
      "\n",
      "6. Summary:\n",
      "World War II was a devastating conflict that reshaped the world order and left lasting scars on humanity. It brought together nations from around the globe in a fight against tyranny and oppression, ultimately leading to the defeat of the Axis powers and the establishment of new world alliances.\n",
      "\n",
      "7. Articles/Books Helpful:\n",
      "- \"The Second World War\" by Antony Beevor\n",
      "- \"The Rise and Fall of the Third Reich\" by William L. Shirer\n",
      "\n",
      "8. TLDR:\n",
      "World War II was a global conflict from 1939 to 1945 involving most of the world's nations, fought between the Allies and the Axis powers. It resulted in over 70 million deaths, reshaped global politics, and led to the use of atomic bombs on Japan.\n"
     ]
    }
   ],
   "source": [
    "def func():\n",
    "    event_name = input(\"Enter the event name: \")\n",
    "    return event_name\n",
    "\n",
    "def generate_prompt(event_name):\n",
    "    prompt = (\n",
    "        f\"Provide detailed information about the following historical event in the format below:\\n\\n\"\n",
    "        f\"Query: {event_name}\\n\"\n",
    "        f\"1. About the Event:\\n\"\n",
    "        f\"2. Timeline:\\n\"\n",
    "        f\"3. People/Parties Involved:\\n\"\n",
    "        f\"4. Regions Affected:\\n\"\n",
    "        f\"5. Key Takeaways:\\n\"\n",
    "        f\"6. Summary:\\n\"\n",
    "        f\"7. Articles/Books Helpful:\\n\"\n",
    "        f\"8. TLDR:\\n\\n\"\n",
    "        f\"Provide detailed and accurate information.\"\n",
    "    )\n",
    "    return prompt\n",
    "\n",
    "def fetch(prompt):\n",
    "    chtcompl = client.chat.completions.create(\n",
    "        model=\"gpt-3.5-turbo\",\n",
    "        messages=[{\"role\": \"user\", \"content\": prompt}],\n",
    "        stream=True\n",
    "    )\n",
    "\n",
    "    response = \"\"\n",
    "    for completion in chtcompl:\n",
    "        content = completion.choices[0].delta.content\n",
    "        if content:\n",
    "            response+=content\n",
    "    return response\n",
    "\n",
    "def main():\n",
    "    event_name = func()\n",
    "\n",
    "    prompt = generate_prompt(event_name)\n",
    "    response = fetch(prompt)\n",
    "    print(\"\\n\\nResponse request taken:\\n\")\n",
    "    print(response)\n",
    "\n",
    "if __name__ == \"__main__\":\n",
    "    main()\n"
   ]
  }
 ],
 "metadata": {
  "kernelspec": {
   "display_name": "Python 3",
   "language": "python",
   "name": "python3"
  },
  "language_info": {
   "codemirror_mode": {
    "name": "ipython",
    "version": 3
   },
   "file_extension": ".py",
   "mimetype": "text/x-python",
   "name": "python",
   "nbconvert_exporter": "python",
   "pygments_lexer": "ipython3",
   "version": "3.12.3"
  }
 },
 "nbformat": 4,
 "nbformat_minor": 2
}
